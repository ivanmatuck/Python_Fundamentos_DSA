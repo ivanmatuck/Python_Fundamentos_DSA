{
 "cells": [
  {
   "cell_type": "code",
   "execution_count": 5,
   "metadata": {},
   "outputs": [
    {
     "name": "stdout",
     "output_type": "stream",
     "text": [
      "Oi, minha francesinha linda! Você sabia que eu te amo? Sim\n",
      "Então... Te amo pra caralho!!! rs\n"
     ]
    }
   ],
   "source": [
    "amor = input('Oi, minha francesinha linda! Você sabia que eu te amo? ')\n",
    "if amor == 'Sim' or amor == 'Sabia':\n",
    "    print('Então... Te amo pra caralho!!! rs')\n",
    "    \n",
    "else:\n",
    "    print('Sabe de nada mesmo...rs')"
   ]
  },
  {
   "cell_type": "code",
   "execution_count": null,
   "metadata": {},
   "outputs": [],
   "source": []
  }
 ],
 "metadata": {
  "kernelspec": {
   "display_name": "Python 3",
   "language": "python",
   "name": "python3"
  },
  "language_info": {
   "codemirror_mode": {
    "name": "ipython",
    "version": 3
   },
   "file_extension": ".py",
   "mimetype": "text/x-python",
   "name": "python",
   "nbconvert_exporter": "python",
   "pygments_lexer": "ipython3",
   "version": "3.7.3"
  }
 },
 "nbformat": 4,
 "nbformat_minor": 2
}
