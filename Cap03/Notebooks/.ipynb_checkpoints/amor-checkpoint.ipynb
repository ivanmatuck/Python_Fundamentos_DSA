{
 "cells": [
  {
   "cell_type": "code",
   "execution_count": 1,
   "metadata": {},
   "outputs": [
    {
     "name": "stdout",
     "output_type": "stream",
     "text": [
      "Você sabia que eu te amo? Sim ou Não? Sim\n",
      "Então... Te amo pra caralho!!! rs\n"
     ]
    }
   ],
   "source": [
    "amor = input('Você sabia que eu te amo? Sim ou Não? ')\n",
    "if amor == 'Sim':\n",
    "    print('Então... Te amo pra caralho!!! rs')\n",
    "    \n",
    "else:\n",
    "    print('Sabe de nada mesmo...rs')"
   ]
  },
  {
   "cell_type": "code",
   "execution_count": 2,
   "metadata": {},
   "outputs": [
    {
     "name": "stdout",
     "output_type": "stream",
     "text": [
      "Você sabia que eu te amo? Sim ou Não? Não\n",
      "Sabe de nada mesmo...rs\n"
     ]
    }
   ],
   "source": [
    "amor = input('Você sabia que eu te amo? Sim ou Não? ')\n",
    "if amor == 'Sim':\n",
    "    print('Então... Te amo pra caralho!!! rs')\n",
    "    \n",
    "else:\n",
    "    print('Sabe de nada mesmo...rs')"
   ]
  },
  {
   "cell_type": "code",
   "execution_count": null,
   "metadata": {},
   "outputs": [],
   "source": []
  }
 ],
 "metadata": {
  "kernelspec": {
   "display_name": "Python 3",
   "language": "python",
   "name": "python3"
  },
  "language_info": {
   "codemirror_mode": {
    "name": "ipython",
    "version": 3
   },
   "file_extension": ".py",
   "mimetype": "text/x-python",
   "name": "python",
   "nbconvert_exporter": "python",
   "pygments_lexer": "ipython3",
   "version": "3.7.3"
  }
 },
 "nbformat": 4,
 "nbformat_minor": 2
}
