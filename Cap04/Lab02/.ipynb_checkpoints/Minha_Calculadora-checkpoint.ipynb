{
 "cells": [
  {
   "cell_type": "code",
   "execution_count": null,
   "metadata": {},
   "outputs": [],
   "source": [
    "print(\"\\n************Minha Calculadora em Python*************\")\n",
    "\n",
    "def add (x, y):\n",
    "    return x + y\n",
    "\n",
    "def subtract (x, y):\n",
    "    return x - y\n",
    "\n",
    "def multiply (x, y):\n",
    "    return x * y\n",
    "\n",
    "def divide (x, y):\n",
    "    return x / y\n",
    "\n",
    "print(\"\\nO que você quer fazer?\")\n",
    "print(\"1 - Somar\")\n",
    "print(\"2 - Subtrair\")\n",
    "print(\"3 - Multiplicar\")\n",
    "print(\"4 - Dividir\")\n",
    "\n",
    "escolha = input(\"\\nDigite o número da opção escolhida: \")\n",
    "\n",
    "num1 = input(\"\\nDigite o primeiro número: \")\n",
    "num2 = input(\"\\nDigite o segundo número: \")\n",
    "\n",
    "if escolha == '1':\n",
    "    print(\"\\n\")\n",
    "    print(num1, \"+\", num2, \"=\", add(num1, num2))\n",
    "    print(\"\\n\")\n",
    "    \n",
    "elif escolha == '2':\n",
    "    print(\"\\n\")\n",
    "    print(num1, \"-\", num2, \"=\", subtract(num1, num2))\n",
    "    print(\"\\n\")\n",
    "    \n",
    "elif escolha == '3':\n",
    "    print(\"\\n\")\n",
    "    print(num1, \"*\", num2, \"=\", multiply(num1, num2))\n",
    "    print(\\n)\n",
    "    \n",
    "elif escolha == '4':\n",
    "    print(\"\\n\")\n",
    "    print(num1, \"/\", num2, \"=\", divide(num1, num2))\n",
    "    \n",
    "else\n",
    "    print(\"\\n Vc fez alguma cagada, mas relaxa e tenta começar de novo.\"\\n)\n",
    "    \n",
    "    print(\"\\nO que você quer fazer?\")"
   ]
  }
 ],
 "metadata": {
  "kernelspec": {
   "display_name": "Python 3",
   "language": "python",
   "name": "python3"
  },
  "language_info": {
   "codemirror_mode": {
    "name": "ipython",
    "version": 3
   },
   "file_extension": ".py",
   "mimetype": "text/x-python",
   "name": "python",
   "nbconvert_exporter": "python",
   "pygments_lexer": "ipython3",
   "version": "3.7.3"
  }
 },
 "nbformat": 4,
 "nbformat_minor": 2
}
